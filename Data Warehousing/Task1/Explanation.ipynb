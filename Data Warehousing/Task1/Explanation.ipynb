{
 "cells": [
  {
   "cell_type": "markdown",
   "id": "d45fe3de",
   "metadata": {},
   "source": [
    "## 2. Why Star Schema (vs Snowflake)\n",
    "\n",
    "* It is simpler and more intuitive for querying and reporting.\n",
    "* It reduces the number of joins, improving query performance.\n",
    "* It is easier for business analysts to understand and navigate compared to a normalized snowflake schema."
   ]
  }
 ],
 "metadata": {
  "language_info": {
   "name": "python"
  }
 },
 "nbformat": 4,
 "nbformat_minor": 5
}
