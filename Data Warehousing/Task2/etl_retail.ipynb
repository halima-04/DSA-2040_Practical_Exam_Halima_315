{
 "cells": [
  {
   "cell_type": "markdown",
   "id": "8202fba7",
   "metadata": {},
   "source": [
    "## Step 1 — Extract"
   ]
  },
  {
   "cell_type": "markdown",
   "id": "d1cd457d",
   "metadata": {},
   "source": [
    "## What we do:\n",
    "* Read the dataset (Online_Retail.csv) from disk into a pandas DataFrame.\n",
    "* Remove rows missing essential values:\n",
    "* InvoiceNo → needed to identify transactions.\n",
    "* StockCode → product identification.\n",
    "* Quantity and UnitPrice → required for sales calculations.\n",
    "* InvoiceDate → needed for time-based analysis.\n",
    "* Convert InvoiceDate to a proper datetime type so we can filter and group by time later.\n",
    "* Remove any rows where the date could not be parsed.\n",
    "\n",
    "## Why we do it:\n",
    "* Ensures we are working only with valid, complete data before transformations.\n",
    "* Makes sure the InvoiceDate column is in a format that allows filtering and aggregations.\n",
    "* Avoids issues in later steps from missing or invalid values."
   ]
  },
  {
   "cell_type": "code",
   "execution_count": 42,
   "id": "5305152a",
   "metadata": {},
   "outputs": [
    {
     "name": "stdout",
     "output_type": "stream",
     "text": [
      "Files in zip: ['Online Retail.xlsx']\n",
      "       InvoiceNo StockCode                       Description  Quantity  \\\n",
      "209268    555200     71459    HANGING JAM JAR T-LIGHT HOLDER        24   \n",
      "207108    554974     21128                GOLD FISHING GNOME         4   \n",
      "167085    550972     21086       SET/6 RED SPOTTY PAPER CUPS         4   \n",
      "471836    576652     22812  PACK 3 BOXES CHRISTMAS PANETTONE         3   \n",
      "115865    546157     22180                    RETROSPOT LAMP         2   \n",
      "\n",
      "               InvoiceDate  UnitPrice  CustomerID         Country  \n",
      "209268 2011-06-01 12:05:00       0.85     17315.0  United Kingdom  \n",
      "207108 2011-05-27 17:14:00       6.95     14031.0  United Kingdom  \n",
      "167085 2011-04-21 17:05:00       0.65     14031.0  United Kingdom  \n",
      "471836 2011-11-16 10:39:00       1.95     17198.0  United Kingdom  \n",
      "115865 2011-03-10 08:40:00       9.95     13502.0  United Kingdom  \n",
      "<class 'pandas.core.frame.DataFrame'>\n",
      "Index: 1000 entries, 209268 to 352115\n",
      "Data columns (total 8 columns):\n",
      " #   Column       Non-Null Count  Dtype         \n",
      "---  ------       --------------  -----         \n",
      " 0   InvoiceNo    1000 non-null   object        \n",
      " 1   StockCode    1000 non-null   object        \n",
      " 2   Description  998 non-null    object        \n",
      " 3   Quantity     1000 non-null   int64         \n",
      " 4   InvoiceDate  1000 non-null   datetime64[ns]\n",
      " 5   UnitPrice    1000 non-null   float64       \n",
      " 6   CustomerID   750 non-null    float64       \n",
      " 7   Country      1000 non-null   object        \n",
      "dtypes: datetime64[ns](1), float64(2), int64(1), object(4)\n",
      "memory usage: 70.3+ KB\n",
      "None\n"
     ]
    }
   ],
   "source": [
    "import zipfile\n",
    "import pandas as pd\n",
    "\n",
    "# Correct path to your ZIP file\n",
    "zip_path = r\"C:\\Users\\Salma\\Downloads\\online+retail.zip\"\n",
    "\n",
    "# Inspect ZIP contents\n",
    "with zipfile.ZipFile(zip_path, 'r') as z:\n",
    "    print(\"Files in zip:\", z.namelist())\n",
    "\n",
    "# Read the Excel inside the ZIP\n",
    "excel_name = z.namelist()[0]\n",
    "with zipfile.ZipFile(zip_path) as z:\n",
    "    with z.open(excel_name) as f:\n",
    "        df = pd.read_excel(f)\n",
    "\n",
    "# Take a random sample of 1000 rows\n",
    "df_sample = df.sample(n=1000, random_state=42)\n",
    "\n",
    "print(df_sample.head())\n",
    "print(df_sample.info())\n"
   ]
  },
  {
   "cell_type": "markdown",
   "id": "9474a7b3",
   "metadata": {},
   "source": [
    "## Step 2 — Transform"
   ]
  },
  {
   "cell_type": "markdown",
   "id": "b2f46a7b",
   "metadata": {},
   "source": [
    "## What we do:\n",
    "* Remove invalid transactions:\n",
    "* Negative or zero Quantity values.\n",
    "* Zero or negative UnitPrice.\n",
    "* Create a new column:\n",
    "* TotalSales = Quantity * UnitPrice → This is the key sales measure.\n",
    "* Filter transactions to the last year relative to 2025-08-12 (exam requirement).\n",
    "* Create dimension-like tables:\n",
    "* CustomerDim: unique CustomerID and Country.\n",
    "* TimeDim: unique dates with TimeID, Month, Quarter, Year for time-based OLAP.\n",
    "* Prepare fact table:\n",
    "* SalesFact: contains CustomerID, TimeID, Quantity, and TotalSales.\n",
    "\n",
    "## Why we do it:\n",
    "* Removes bad data so our metrics are accurate.\n",
    "* Adds new calculated metrics for reporting.\n",
    "* Structures the data into star schema format to make OLAP queries easier in Task 3.\n",
    "* Filters for recent transactions to keep analysis relevant and within the scope."
   ]
  },
  {
   "cell_type": "code",
   "execution_count": 43,
   "id": "e154e2b8",
   "metadata": {},
   "outputs": [],
   "source": [
    "# Add TotalSales\n",
    "df_sample['TotalSales'] = df_sample['Quantity'] * df_sample['UnitPrice']\n",
    "\n",
    "# Customer Dimension\n",
    "customer_dim = df_sample.groupby('CustomerID').agg({\n",
    "    'Country': 'first',\n",
    "    'TotalSales': 'sum'\n",
    "}).reset_index()\n",
    "\n",
    "# Time Dimension\n",
    "time_dim = df_sample[['InvoiceDate']].drop_duplicates().reset_index(drop=True)\n",
    "time_dim['TimeID'] = time_dim.index + 1\n",
    "time_dim['Date'] = time_dim['InvoiceDate']\n",
    "time_dim['Month'] = time_dim['InvoiceDate'].dt.month\n",
    "time_dim['Quarter'] = time_dim['InvoiceDate'].dt.quarter\n",
    "time_dim['Year'] = time_dim['InvoiceDate'].dt.year\n",
    "time_dim = time_dim.drop(columns=['InvoiceDate'])\n",
    "\n",
    "# Map TimeID to SalesFact\n",
    "df_sample = df_sample.merge(time_dim[['Date','TimeID']], left_on='InvoiceDate', right_on='Date', how='left')\n",
    "sales_fact = df_sample[['CustomerID','TimeID','Quantity','TotalSales']].copy()\n",
    "\n"
   ]
  },
  {
   "cell_type": "markdown",
   "id": "2ef70eae",
   "metadata": {},
   "source": [
    "## Step 3 — Load"
   ]
  },
  {
   "cell_type": "markdown",
   "id": "68a3b914",
   "metadata": {},
   "source": [
    "## What we do:\n",
    "* Connect to a SQLite database (retail_dw.db).\n",
    "* Create tables:\n",
    "* CustomerDim\n",
    "* TimeDim\n",
    "* SalesFact\n",
    "* Load the cleaned/transformed data into these tables.\n",
    "* Enforce foreign key constraints to maintain referential integrity.\n",
    "\n",
    "## Why we do it:\n",
    "* Moves data into a data warehouse structure for analysis.\n",
    "* Allows running SQL queries efficiently in later steps (Task 3).\n",
    "* Ensures we follow proper relational database design."
   ]
  },
  {
   "cell_type": "code",
   "execution_count": 44,
   "id": "4235fb1a",
   "metadata": {},
   "outputs": [
    {
     "name": "stdout",
     "output_type": "stream",
     "text": [
      "[ETL] Completed: retail_dw_sample.db created with:\n",
      "CustomerDim rows: 559\n",
      "TimeDim rows: 908\n",
      "SalesFact rows: 1000\n"
     ]
    }
   ],
   "source": [
    "# 4. Load into SQLite\n",
    "# -----------------------------\n",
    "db_name = \"retail_dw_sample.db\"\n",
    "conn = sqlite3.connect(db_name)\n",
    "cursor = conn.cursor()\n",
    "\n",
    "# Drop tables if they exist\n",
    "cursor.executescript(\"\"\"\n",
    "DROP TABLE IF EXISTS SalesFact;\n",
    "DROP TABLE IF EXISTS TimeDim;\n",
    "DROP TABLE IF EXISTS CustomerDim;\n",
    "\"\"\")\n",
    "\n",
    "# Create tables\n",
    "cursor.executescript(\"\"\"\n",
    "CREATE TABLE CustomerDim (\n",
    "    CustomerID INTEGER PRIMARY KEY,\n",
    "    Country TEXT,\n",
    "    TotalSales REAL\n",
    ");\n",
    "\n",
    "CREATE TABLE TimeDim (\n",
    "    TimeID INTEGER PRIMARY KEY,\n",
    "    Date TEXT,\n",
    "    Month INTEGER,\n",
    "    Quarter INTEGER,\n",
    "    Year INTEGER\n",
    ");\n",
    "\n",
    "CREATE TABLE SalesFact (\n",
    "    SalesID INTEGER PRIMARY KEY AUTOINCREMENT,\n",
    "    CustomerID INTEGER,\n",
    "    TimeID INTEGER,\n",
    "    Quantity INTEGER,\n",
    "    TotalSales REAL,\n",
    "    FOREIGN KEY (CustomerID) REFERENCES CustomerDim(CustomerID),\n",
    "    FOREIGN KEY (TimeID) REFERENCES TimeDim(TimeID)\n",
    ");\n",
    "\"\"\")\n",
    "\n",
    "# Insert data\n",
    "customer_dim.to_sql('CustomerDim', conn, if_exists='append', index=False)\n",
    "time_dim.to_sql('TimeDim', conn, if_exists='append', index=False)\n",
    "sales_fact.to_sql('SalesFact', conn, if_exists='append', index=False)\n",
    "\n",
    "conn.commit()\n",
    "conn.close()\n",
    "\n",
    "print(f\"[ETL] Completed: {db_name} created with:\")\n",
    "print(\"CustomerDim rows:\", len(customer_dim))\n",
    "print(\"TimeDim rows:\", len(time_dim))\n",
    "print(\"SalesFact rows:\", len(sales_fact))\n"
   ]
  },
  {
   "cell_type": "code",
   "execution_count": 45,
   "id": "68fd5b66",
   "metadata": {},
   "outputs": [
    {
     "name": "stdout",
     "output_type": "stream",
     "text": [
      "[(12353, 'Bahrain', 39.8), (12354, 'Spain', 8.5), (12360, 'Austria', 33.9), (12391, 'Cyprus', 35.400000000000006), (12397, 'Belgium', 16.6)]\n",
      "[(1, 17315, 1, 24, 20.4), (2, 14031, 2, 4, 27.8), (3, 14031, 3, 4, 2.6), (4, 17198, 4, 3, 5.85), (5, 13502, 5, 2, 19.9)]\n"
     ]
    }
   ],
   "source": [
    "import sqlite3\n",
    "conn = sqlite3.connect(\"retail_dw_sample.db\")\n",
    "cursor = conn.cursor()\n",
    "\n",
    "cursor.execute(\"SELECT * FROM CustomerDim LIMIT 5\")\n",
    "print(cursor.fetchall())\n",
    "\n",
    "cursor.execute(\"SELECT * FROM SalesFact LIMIT 5\")\n",
    "print(cursor.fetchall())\n",
    "\n",
    "conn.close()\n"
   ]
  }
 ],
 "metadata": {
  "kernelspec": {
   "display_name": "Python 3",
   "language": "python",
   "name": "python3"
  },
  "language_info": {
   "codemirror_mode": {
    "name": "ipython",
    "version": 3
   },
   "file_extension": ".py",
   "mimetype": "text/x-python",
   "name": "python",
   "nbconvert_exporter": "python",
   "pygments_lexer": "ipython3",
   "version": "3.12.10"
  }
 },
 "nbformat": 4,
 "nbformat_minor": 5
}
